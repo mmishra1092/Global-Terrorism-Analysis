{
  "nbformat": 4,
  "nbformat_minor": 0,
  "metadata": {
    "colab": {
      "name": "MAYANK MISHRA: Global Terrorism Analysis - Capstone Project.ipynb",
      "provenance": [],
      "include_colab_link": true
    },
    "kernelspec": {
      "display_name": "Python 3",
      "language": "python",
      "name": "python3"
    },
    "language_info": {
      "codemirror_mode": {
        "name": "ipython",
        "version": 3
      },
      "file_extension": ".py",
      "mimetype": "text/x-python",
      "name": "python",
      "nbconvert_exporter": "python",
      "pygments_lexer": "ipython3",
      "version": "3.6.6"
    }
  },
  "cells": [
    {
      "cell_type": "markdown",
      "metadata": {
        "id": "view-in-github",
        "colab_type": "text"
      },
      "source": [
        "<a href=\"https://colab.research.google.com/github/mmishra1092/Global-Terrorism-Analysis/blob/main/MAYANK_MISHRA_Global_Terrorism_Analysis_Capstone_Project.ipynb\" target=\"_parent\"><img src=\"https://colab.research.google.com/assets/colab-badge.svg\" alt=\"Open In Colab\"/></a>"
      ]
    },
    {
      "cell_type": "markdown",
      "metadata": {
        "id": "Y06xIdG26kRF"
      },
      "source": [
        "## <b> The Global Terrorism Database (GTD) is an open-source database including information on terrorist attacks around the world from 1970 through 2017. The GTD includes systematic data on domestic as well as international terrorist incidents that have occurred during this time period and now includes more than 180,000 attacks. The database is maintained by researchers at the National Consortium for the Study of Terrorism and Responses to Terrorism (START), headquartered at the University of Maryland.</b>\n",
        "\n",
        "# <b> Explore and analyze the data to discover key findings pertaining to terrorist activities. </b>"
      ]
    },
    {
      "cell_type": "markdown",
      "metadata": {
        "id": "Q4nVpicDd6o-"
      },
      "source": [
        "We know that world is facing the problem of terrorism from decades and yet there is nothing much done about it. Yes! the world is coming together to fight against terrorism but we need to ask questions to ourselves that is it enough? So before we take you all through the conclusion and insights of GTD dataset, we want to start by taking you through some of the basics principles of analysing which we have used in this journey. Analysing such as large dataset was not a easy task, but with time and persistence we have concluded so many insights from it.\n",
        "\n",
        "We knew that it would not be easy to evaluate things without following some basics steps which are:\n",
        "\n",
        "1) **Dataset understanding:** In this dataset the first hurdle which we came    through was that there is no problem statment and so we have to decide objective all by ourselves and try to derive as many insights as we could.\n",
        "\n",
        "2) **Taking relevant variables:** Because of such a large dataset,it was a tough task to work only on the relevant columns. So we filtered out the columns which would make more sense in analysing data as whole.\n",
        "\n",
        "3) **Data Cleaning:** Basic data cleaning was done to avoid unnecessary missing values and outliers.\n",
        "\n",
        "4) **Understanding the variable:** We try to understand that how the dependent and independent variable relate to each other.\n",
        "\n",
        "Now that we understood operations involved in analysing, let's start to find out the possible answers to our objectives. "
      ]
    },
    {
      "cell_type": "code",
      "metadata": {
        "id": "vl2CMCQ-Y0zH"
      },
      "source": [
        "# Import all the necessary libraries\n",
        "\n",
        "import pandas as pd\n",
        "import seaborn as sns\n",
        "import numpy as np\n",
        "import matplotlib.pyplot as plt\n",
        "%matplotlib inline\n"
      ],
      "execution_count": null,
      "outputs": []
    },
    {
      "cell_type": "code",
      "metadata": {
        "colab": {
          "background_save": true,
          "base_uri": "https://localhost:8080/"
        },
        "id": "gj8bQz1hZ6N9",
        "outputId": "4ed75be4-3fcb-4226-f17f-30b049b9ba3a"
      },
      "source": [
        "# Mount the Drive\n",
        "from google.colab import drive\n",
        "drive.mount('/content/drive')"
      ],
      "execution_count": null,
      "outputs": [
        {
          "name": "stdout",
          "output_type": "stream",
          "text": [
            "Mounted at /content/drive\n"
          ]
        }
      ]
    },
    {
      "cell_type": "code",
      "metadata": {
        "colab": {
          "background_save": true
        },
        "id": "wpyeJntQV9dd"
      },
      "source": [
        "# Upload data path\n",
        "working_path = '/content/drive/MyDrive/Module: 1/Week_4/Capstone Project/Data/global_terrorism_data.csv'"
      ],
      "execution_count": null,
      "outputs": []
    },
    {
      "cell_type": "code",
      "metadata": {
        "id": "MzFwYqbbV9iN"
      },
      "source": [
        "# Read Data\n",
        "global_terrorism_df = pd.read_csv(working_path, encoding = 'ISO-8859-1', low_memory = False)"
      ],
      "execution_count": null,
      "outputs": []
    },
    {
      "cell_type": "code",
      "metadata": {
        "id": "sdb4mPeoV9l0"
      },
      "source": [
        "# View first 5 rows of original dataset\n",
        "global_terrorism_df.head()"
      ],
      "execution_count": null,
      "outputs": []
    },
    {
      "cell_type": "code",
      "metadata": {
        "id": "x_Yku2ZG8qlc"
      },
      "source": [
        "# View last 5 rows of original dataset\n",
        "global_terrorism_df.tail()"
      ],
      "execution_count": null,
      "outputs": []
    },
    {
      "cell_type": "code",
      "metadata": {
        "id": "4K6mFiVw8u8o"
      },
      "source": [
        "# Original dataset information\n",
        "global_terrorism_df.info()"
      ],
      "execution_count": null,
      "outputs": []
    },
    {
      "cell_type": "code",
      "metadata": {
        "id": "KQYy2Dvv84yS"
      },
      "source": [
        "global_terrorism_df.describe()"
      ],
      "execution_count": null,
      "outputs": []
    },
    {
      "cell_type": "markdown",
      "metadata": {
        "id": "cNFy1UE3vdpQ"
      },
      "source": [
        "Now, that we have got the summarize information about the variables and values from datset what we can conclude are:\n",
        "\n",
        "  \n",
        "\n",
        "1.   **Null values:** There are very large number of null values in this dataset.\n",
        "2.   \n",
        " **Variable type:** There are mainly numerical values and categorical values in dataset.\n",
        "\n",
        "\n",
        "\n",
        "**What all can we conclude from this dataset?**\n",
        "\n",
        "\n",
        "*   We can work on the hot regions of attack all over the world.\n",
        "*   We can understand the types of weapons used in attack.\n",
        "\n",
        "*   We can know that who all are targeted mostly.\n",
        "*   Also, which region has less number of attacks.\n",
        "\n",
        "*   How desctructive can be the attack can also be concluded?\n",
        "*   Which all terrorist group are mostly active?\n",
        "\n",
        "These are some basics objectives which we are going to work on this journey.\n",
        "\n",
        "Now, that we have got the basic idea of datset and our objectives, it's time we deep dive and start analysing the terrorism activities around the world. \n",
        "\n",
        "\n",
        "\n",
        "\n",
        "\n",
        "    \n",
        "\n",
        "\n",
        "\n"
      ]
    },
    {
      "cell_type": "markdown",
      "metadata": {
        "id": "_b8meTct0RQZ"
      },
      "source": [
        "In this step what we have done is that we change the name of the columns which we are going to work on, so that it would be easy to understand the analsyis and visulaization."
      ]
    },
    {
      "cell_type": "code",
      "metadata": {
        "id": "orAVKM3djdw8"
      },
      "source": [
        "# Rename the relevant column\n",
        "global_terrorism_df.rename(columns = {'eventid':'id','iyear':'year','imonth':'month','iday':'day','country_txt':'Country','region_txt':'Region',\n",
        "                                      'provstate':'state','attacktype1_txt':'attack_type','target1':'target','nkill':'killed',\n",
        "                                      'nwound':'wound','gname':'group','weaptype1_txt':'weapon_type'},inplace = True)"
      ],
      "execution_count": null,
      "outputs": []
    },
    {
      "cell_type": "markdown",
      "metadata": {
        "id": "UH9HEPxL0sYO"
      },
      "source": [
        "Well, after renaming the relevant columns, we need to create another dataframe, in which relevant columns are included which are going to be the main focus of our study."
      ]
    },
    {
      "cell_type": "markdown",
      "metadata": {
        "id": "8fKfjshy1Sjm"
      },
      "source": [
        ""
      ]
    },
    {
      "cell_type": "code",
      "metadata": {
        "id": "493tfu-q_aX2"
      },
      "source": [
        "# Create the dataframe of relevant dataframe\n",
        "global_terrorism_relevant_df = global_terrorism_df[['id','year','month','day','Country','Region','state','city','attack_type','target',\n",
        "                                                            'killed','wound','group','weapon_type']]"
      ],
      "execution_count": null,
      "outputs": []
    },
    {
      "cell_type": "code",
      "metadata": {
        "id": "1AlO3Vi4_adA"
      },
      "source": [
        "# Numberof rows columns of relevant dataset\n",
        "global_terrorism_relevant_df.shape"
      ],
      "execution_count": null,
      "outputs": []
    },
    {
      "cell_type": "code",
      "metadata": {
        "id": "01eAuLm8KpQs"
      },
      "source": [
        "global_terrorism_relevant_df.columns.values"
      ],
      "execution_count": null,
      "outputs": []
    },
    {
      "cell_type": "code",
      "metadata": {
        "id": "UadVXSOE_ag8"
      },
      "source": [
        "global_terrorism_relevant_df.isnull().sum()"
      ],
      "execution_count": null,
      "outputs": []
    },
    {
      "cell_type": "code",
      "metadata": {
        "id": "j2UQc-Ot1fsU"
      },
      "source": [
        "# Attack type counts\n",
        "global_terrorism_relevant_df.attack_type.value_counts()"
      ],
      "execution_count": null,
      "outputs": []
    },
    {
      "cell_type": "code",
      "metadata": {
        "id": "Q9yYkmP1zBHp"
      },
      "source": [
        "#Plotting number of attack types\n",
        "sns.countplot(global_terrorism_relevant_df['attack_type']);\n",
        "plt.xticks(rotation=90)\n",
        "plt.rcParams['figure.figsize'] = (20,7)"
      ],
      "execution_count": null,
      "outputs": []
    },
    {
      "cell_type": "markdown",
      "metadata": {
        "id": "LYyKT9XiB32g"
      },
      "source": [
        "**Conclusion:**\n",
        "Most of the attacks which are done by terrorist uses bombing explosion as weapon because it can be done from far away and they can easily get away with it. To reduce the chances of such activities we must be vigilant enough in all the public places, metro, buses, government offices etc. Also we can see that Hijacking is at the lowest number."
      ]
    },
    {
      "cell_type": "code",
      "metadata": {
        "colab": {
          "background_save": true
        },
        "id": "jZV_H1tE3g2I",
        "outputId": "539eacb7-02dd-4396-c8c4-3931723a3baf"
      },
      "source": [
        "# Most used weapon\n",
        "global_terrorism_relevant_df.weapon_type.value_counts()"
      ],
      "execution_count": null,
      "outputs": [
        {
          "data": {
            "text/plain": [
              "Explosives                                                                     92426\n",
              "Firearms                                                                       58524\n",
              "Unknown                                                                        15157\n",
              "Incendiary                                                                     11135\n",
              "Melee                                                                           3655\n",
              "Chemical                                                                         321\n",
              "Sabotage Equipment                                                               141\n",
              "Vehicle (not to include vehicle-borne explosives, i.e., car or truck bombs)      136\n",
              "Other                                                                            114\n",
              "Biological                                                                        35\n",
              "Fake Weapons                                                                      33\n",
              "Radiological                                                                      14\n",
              "Name: weapon_type, dtype: int64"
            ]
          },
          "execution_count": null,
          "metadata": {},
          "output_type": "execute_result"
        }
      ]
    },
    {
      "cell_type": "code",
      "metadata": {
        "id": "LSPCF5eJKKt-"
      },
      "source": [
        "# Types of weapon used plot\n",
        "sns.countplot(global_terrorism_relevant_df['weapon_type'])\n",
        "plt.xticks(rotation=90)\n",
        "plt.rcParams['figure.figsize'] = (20,5)\n",
        "plt.show();"
      ],
      "execution_count": null,
      "outputs": []
    },
    {
      "cell_type": "markdown",
      "metadata": {
        "id": "jmrXBuOqCLq7"
      },
      "source": [
        "**Conclusion:** From above insights we have seen that most attacks are done by using bombing and explosion, so its not a surprise that explosives are used mostly as weapon type. Also there are few numbers of radiological and biological weapon used which states that with development in the field of science and technology there are chances that these types of weapons can be often used in coming days. In order to avoid such attacks strong norms and laws should be made on world level which should prohibit use of such weapons."
      ]
    },
    {
      "cell_type": "code",
      "metadata": {
        "id": "AN0jotNr5qS3"
      },
      "source": [
        "# Most attacked in a region\n",
        "global_terrorism_relevant_df.Region.value_counts()"
      ],
      "execution_count": null,
      "outputs": []
    },
    {
      "cell_type": "code",
      "metadata": {
        "id": "lNmpcZfaKK-M"
      },
      "source": [
        "# Terrorist activities by region each year\n",
        "\n",
        "regional_terrorists_activities = global_terrorism_relevant_df.groupby(['year','Region'])['Region'].count().unstack()\n",
        "regional_terrorists_activities.plot(kind = 'area')\n",
        "plt.title('Terrorist activities by region each year')\n",
        "plt.ylabel('No.of attacks')\n",
        "plt.xlabel('YEAR')\n",
        "plt.xticks(rotation=90)\n",
        "\n",
        "plt.rcParams['figure.figsize'] = (20,5)"
      ],
      "execution_count": null,
      "outputs": []
    },
    {
      "cell_type": "markdown",
      "metadata": {
        "id": "KFqnyfDZ8vkf"
      },
      "source": [
        "Conclusion: Middle East & North Africa and south asia are most hot zone of terrorist attacks and so they are most affected region. Also,South Asia region has more attacks during and after year 2010."
      ]
    },
    {
      "cell_type": "code",
      "metadata": {
        "id": "tKsdkTCN_Y0B"
      },
      "source": [
        "# Top 10 affected countries\n",
        "top_10_affected_countries = global_terrorism_relevant_df['Country'].value_counts().head(10)\n",
        "top_10_affected_countries"
      ],
      "execution_count": null,
      "outputs": []
    },
    {
      "cell_type": "code",
      "metadata": {
        "id": "uNKtVXGY-hYS"
      },
      "source": [
        "# Plotting top affected countries\n",
        "top_10_affected_countries.plot(kind='bar')\n",
        "\n",
        "plt.title('TOP AFFECTED COUNTRIES')\n",
        "plt.ylabel('counts')\n",
        "plt.xlabel('Country')\n",
        "plt.rcParams['figure.figsize'] = (20, 5)"
      ],
      "execution_count": null,
      "outputs": []
    },
    {
      "cell_type": "markdown",
      "metadata": {
        "id": "lRxUK5kHDZeq"
      },
      "source": [
        "**Conclusion:** Iraq is the most attacked country in world as so it is the most affected country by terrorist attacks. We can also see in the plot that there are five countries from Asia which are mostly attacked by terrorist.\n",
        "          "
      ]
    },
    {
      "cell_type": "code",
      "metadata": {
        "colab": {
          "background_save": true
        },
        "id": "DJ9WBzukAlsH",
        "outputId": "ca2e5c25-7972-4a1d-ba66-7614dee57bef"
      },
      "source": [
        "# Least attacked countries\n",
        "least_attacked_countries = global_terrorism_relevant_df['Country'].value_counts().tail(10)\n",
        "least_attacked_countries"
      ],
      "execution_count": null,
      "outputs": [
        {
          "data": {
            "text/plain": [
              "New Hebrides           1\n",
              "Falkland Islands       1\n",
              "South Vietnam          1\n",
              "International          1\n",
              "Wallis and Futuna      1\n",
              "St. Lucia              1\n",
              "Andorra                1\n",
              "Antigua and Barbuda    1\n",
              "North Korea            1\n",
              "Vatican City           1\n",
              "Name: Country, dtype: int64"
            ]
          },
          "execution_count": null,
          "metadata": {},
          "output_type": "execute_result"
        }
      ]
    },
    {
      "cell_type": "code",
      "metadata": {
        "id": "GP22Xlo9A9Em"
      },
      "source": [
        "# Least attacked countries\n",
        "least_attacked_countries.plot(kind='bar')\n",
        "\n",
        "plt.title('LEAST ATTACKED COUNTRIES')\n",
        "plt.ylabel('counts')\n",
        "plt.xlabel('Country')\n",
        "plt.rcParams['figure.figsize'] = (10, 5)"
      ],
      "execution_count": null,
      "outputs": []
    },
    {
      "cell_type": "markdown",
      "metadata": {
        "id": "iz3-bPWk-aj9"
      },
      "source": [
        "**Concluison:** Top 10 countries with least number of attacks has same count of attacks and all the countries are less populated."
      ]
    },
    {
      "cell_type": "code",
      "metadata": {
        "id": "7m5AhUDPKJbZ"
      },
      "source": [
        "# Attacks in each year\n",
        "sns.countplot(global_terrorism_relevant_df['year'])\n",
        "plt.xticks(rotation=90)\n",
        "plt.rcParams['figure.figsize'] = (20, 5)"
      ],
      "execution_count": null,
      "outputs": []
    },
    {
      "cell_type": "code",
      "metadata": {
        "id": "B1j8KvH95pZ6"
      },
      "source": [
        "# Most attacked in a single year\n",
        "global_terrorism_relevant_df.year.value_counts()"
      ],
      "execution_count": null,
      "outputs": []
    },
    {
      "cell_type": "markdown",
      "metadata": {
        "id": "OD0jI2Qr-7NK"
      },
      "source": [
        "Conclusion: The most number of attacks were done in year 2014. There is regular increase in number of attacks from 2005. This concludes that 21st century has a large increase in terrorist attacks."
      ]
    },
    {
      "cell_type": "code",
      "metadata": {
        "id": "WE57bX2c5p80"
      },
      "source": [
        "# Top 10 state with most terrorist attacks in world\n",
        "top_10_attacked_state = global_terrorism_relevant_df['state'].value_counts().head(10)\n",
        "top_10_attacked_state"
      ],
      "execution_count": null,
      "outputs": []
    },
    {
      "cell_type": "code",
      "metadata": {
        "id": "x3B7POfy5qAj"
      },
      "source": [
        "# Plot top affected states in world\n",
        "\n",
        "top_10_attacked_state.plot(kind='bar')\n",
        "\n",
        "plt.title('TOP ATTACKED STATES IN WORLD')\n",
        "plt.ylabel('counts')\n",
        "plt.xlabel('state')\n",
        "plt.rcParams['figure.figsize'] = (10, 5)\n"
      ],
      "execution_count": null,
      "outputs": []
    },
    {
      "cell_type": "markdown",
      "metadata": {
        "id": "O7143TpRKzGl"
      },
      "source": [
        "**Conclusion:** Baghdad (capital of Iraq) is the most attacked and affected state in the world."
      ]
    },
    {
      "cell_type": "code",
      "metadata": {
        "id": "bb2vrIFU5qBt"
      },
      "source": [
        "# States of India attacked\n",
        "\n",
        "attack_on_India = global_terrorism_relevant_df[global_terrorism_relevant_df['Country'] == 'India']['state'].value_counts()\n",
        "attack_on_India\n"
      ],
      "execution_count": null,
      "outputs": []
    },
    {
      "cell_type": "code",
      "metadata": {
        "id": "vOalfy705qGZ"
      },
      "source": [
        "# Plot most attacked Indian state.\n",
        "attack_on_India.plot(kind='bar')\n",
        "\n",
        "plt.title('ATTACKS ON INDIAN STATES')\n",
        "plt.ylabel('counts')\n",
        "plt.xlabel('states')\n",
        "plt.rcParams['figure.figsize'] = (20, 5)"
      ],
      "execution_count": null,
      "outputs": []
    },
    {
      "cell_type": "markdown",
      "metadata": {
        "id": "16StgnTGOuij"
      },
      "source": [
        "Conclusion: Jammu and Kashmir is most attacked state in india"
      ]
    },
    {
      "cell_type": "code",
      "metadata": {
        "id": "Vxy8_6ZRO49G"
      },
      "source": [
        "# Most active terrorist group\n",
        "most_active_terrorist_group = global_terrorism_relevant_df['group'].value_counts().head(10)\n",
        "most_active_terrorist_group"
      ],
      "execution_count": null,
      "outputs": []
    },
    {
      "cell_type": "code",
      "metadata": {
        "id": "aJTt86deO4-d"
      },
      "source": [
        "# Plotting most active terrorist group\n",
        "\n",
        "most_active_terrorist_group.plot(kind='bar')\n",
        "\n",
        "plt.title('MOST ACTIVE TERRORIST GROUP')\n",
        "plt.ylabel('counts')\n",
        "plt.xlabel('group')\n",
        "plt.rcParams['figure.figsize'] = (20,5)"
      ],
      "execution_count": null,
      "outputs": []
    },
    {
      "cell_type": "markdown",
      "metadata": {
        "id": "ul9jGiwZ11Cy"
      },
      "source": [
        "Conclusion: Most of the terrorist organisation does not take the responsibility of attack."
      ]
    },
    {
      "cell_type": "code",
      "metadata": {
        "id": "AKP1SIhD5qN0"
      },
      "source": [
        "# Most targetted\n",
        "target = global_terrorism_relevant_df['target'].value_counts().head(10)\n",
        "target"
      ],
      "execution_count": null,
      "outputs": []
    },
    {
      "cell_type": "code",
      "metadata": {
        "id": "NdhSDRkkjuC2"
      },
      "source": [
        "# Plot who were targetted the most\n",
        "target.plot(kind='bar')\n",
        "\n",
        "plt.title('Most Target')\n",
        "plt.ylabel('counts')\n",
        "plt.xlabel('target')\n",
        "plt.xticks(rotation=90)\n",
        "plt.rcParams['figure.figsize'] = (10, 5)"
      ],
      "execution_count": null,
      "outputs": []
    },
    {
      "cell_type": "markdown",
      "metadata": {
        "id": "VhQczZ66mHWa"
      },
      "source": [
        "Conclusion: Mostly civilians were targetted in terrorist attacks."
      ]
    },
    {
      "cell_type": "code",
      "metadata": {
        "id": "-uA5gVQEyPuC"
      },
      "source": [
        "# Total number of people killed in every region each year.\n",
        "\n",
        "global_terrorism_relevant_df.groupby(['killed','Region'])['year'].mean().unstack().plot(kind = 'box')\n",
        "plt.title('No.of people killed in every region each year')\n",
        "plt.xlabel('Region')\n",
        "plt.ylabel('year')\n",
        "plt.xticks(rotation = 90)\n",
        "plt.rcParams['figure.figsize'] = (15, 5)"
      ],
      "execution_count": null,
      "outputs": []
    },
    {
      "cell_type": "markdown",
      "metadata": {
        "id": "qaL79A6P2QIh"
      },
      "source": [
        "**Overall Conclusion:** We can see by analysis not even a single part of world is untouched by the terrosit attacks. This has become a serious concern for humanity. Other than this the Asian country are mostly affected.\n",
        "\n",
        "**Safety Measures:** \n",
        "\n",
        "1.   All the world leaders should come together and make a strong law agains terrorism,as it is the obstacle in way of human development.\n",
        " \n",
        "2.   Security measures must be updated time to time.\n",
        "\n",
        "1.   Any one found giving hatred speech must be punished as per the law.\n",
        "2.   Border security defence system should be efficient enough in order to pevent any attacks.\n",
        "\n",
        "1.   Most importantly we as citizen must be vigilant enough to suspect any type of suspicious activities.\n",
        "\n",
        "At last we want to conclude by saying that terrorists are not a enemny of any particular country or region, it is the enenmy for whole of humanity.\n",
        "\n",
        "\n",
        "\n",
        "  "
      ]
    },
    {
      "cell_type": "code",
      "metadata": {
        "id": "KdU10eVK-nYH"
      },
      "source": [
        ""
      ],
      "execution_count": null,
      "outputs": []
    }
  ]
}